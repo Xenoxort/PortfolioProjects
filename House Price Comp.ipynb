{
 "cells": [
  {
   "cell_type": "markdown",
   "id": "4b46a8ac-0f19-4887-816f-db4022b91b41",
   "metadata": {},
   "source": [
    "# House Price Competition"
   ]
  },
  {
   "cell_type": "markdown",
   "id": "09803b0a-b6d0-441f-b3ac-899263297fe5",
   "metadata": {},
   "source": [
    "# Step 1 - Basics"
   ]
  },
  {
   "cell_type": "code",
   "execution_count": 1,
   "id": "b2e21754-74eb-4944-bfac-59f5de5ca1e6",
   "metadata": {},
   "outputs": [
    {
     "name": "stderr",
     "output_type": "stream",
     "text": [
      "C:\\Users\\banya\\AppData\\Local\\Temp\\ipykernel_24024\\1509528571.py:16: MatplotlibDeprecationWarning: The seaborn styles shipped by Matplotlib are deprecated since 3.6, as they no longer correspond to the styles shipped by seaborn. However, they will remain available as 'seaborn-v0_8-<style>'. Alternatively, directly use the seaborn API instead.\n",
      "  plt.style.use(\"seaborn-whitegrid\")\n"
     ]
    }
   ],
   "source": [
    "#1.1 Imports\n",
    "import pandas as pd\n",
    "import numpy as np\n",
    "import warnings\n",
    "\n",
    "from pathlib import Path\n",
    "import matplotlib.pyplot as plt\n",
    "\n",
    "from pandas.api.types import CategoricalDtype\n",
    "\n",
    "from sklearn.model_selection import cross_val_score\n",
    "from xgboost import XGBRegressor\n",
    "\n",
    "\n",
    "#Matplotlib defaults\n",
    "plt.style.use(\"seaborn-whitegrid\")\n",
    "plt.rc(\"figure\", autolayout=True)\n",
    "plt.rc(\n",
    "    \"axes\",\n",
    "    labelweight=\"bold\",\n",
    "    labelsize=\"large\",\n",
    "    titleweight=\"bold\",\n",
    "    titlesize=14,\n",
    "    titlepad=10,\n",
    ")\n",
    "\n",
    "warnings.filterwarnings('ignore')"
   ]
  },
  {
   "cell_type": "code",
   "execution_count": 2,
   "id": "3b749e99-be75-4631-93cb-69d47f33a4a0",
   "metadata": {},
   "outputs": [
    {
     "data": {
      "text/plain": [
       "40"
      ]
     },
     "execution_count": 2,
     "metadata": {},
     "output_type": "execute_result"
    }
   ],
   "source": [
    "#1.2 Investigation\n",
    "train_inv = pd.read_csv('../Documents/Gergely dolgok/AI/0 Datasets/HP comp/train.csv', index_col = 'Id')\n",
    "train_inv.head()\n",
    "train_inv.shape\n",
    "\n",
    "#Missing Values\n",
    "train_inv.isnull().sum().sort_values(ascending = False)\n",
    "length = train_inv.shape[0]\n",
    "bmark_90 = length*0.9\n",
    "miss_above_90 = [col for col in train_inv.columns if train_inv[col].isnull().sum() > bmark_90]\n",
    "\n",
    "#Cardinality\n",
    "train_inv.select_dtypes('object').nunique().sort_values(ascending = False)\n",
    "object_cols = [col for col in train_inv.select_dtypes('object')]\n",
    "high_card_cols = [col for col in train_inv.select_dtypes('object') if train_inv[col].nunique() >= 10]\n",
    "low_card_cols = list(set(object_cols) - set(high_card_cols))\n",
    "len(low_card_cols)"
   ]
  },
  {
   "cell_type": "code",
   "execution_count": 3,
   "id": "701195f9-0479-41ab-b9ec-0efb1cd3a18d",
   "metadata": {},
   "outputs": [
    {
     "data": {
      "text/plain": [
       "['Alley', 'PoolQC', 'MiscFeature']"
      ]
     },
     "execution_count": 3,
     "metadata": {},
     "output_type": "execute_result"
    }
   ],
   "source": [
    "miss_above_90"
   ]
  },
  {
   "cell_type": "code",
   "execution_count": 4,
   "id": "69068e6f-ee95-4252-936a-6d14a1491b66",
   "metadata": {},
   "outputs": [
    {
     "data": {
      "text/html": [
       "<div>\n",
       "<style scoped>\n",
       "    .dataframe tbody tr th:only-of-type {\n",
       "        vertical-align: middle;\n",
       "    }\n",
       "\n",
       "    .dataframe tbody tr th {\n",
       "        vertical-align: top;\n",
       "    }\n",
       "\n",
       "    .dataframe thead th {\n",
       "        text-align: right;\n",
       "    }\n",
       "</style>\n",
       "<table border=\"1\" class=\"dataframe\">\n",
       "  <thead>\n",
       "    <tr style=\"text-align: right;\">\n",
       "      <th></th>\n",
       "      <th>MSSubClass</th>\n",
       "      <th>MSZoning</th>\n",
       "      <th>LotFrontage</th>\n",
       "      <th>LotArea</th>\n",
       "      <th>Street</th>\n",
       "      <th>Alley</th>\n",
       "      <th>LotShape</th>\n",
       "      <th>LandContour</th>\n",
       "      <th>Utilities</th>\n",
       "      <th>LotConfig</th>\n",
       "      <th>...</th>\n",
       "      <th>PoolArea</th>\n",
       "      <th>PoolQC</th>\n",
       "      <th>Fence</th>\n",
       "      <th>MiscFeature</th>\n",
       "      <th>MiscVal</th>\n",
       "      <th>MoSold</th>\n",
       "      <th>YrSold</th>\n",
       "      <th>SaleType</th>\n",
       "      <th>SaleCondition</th>\n",
       "      <th>SalePrice</th>\n",
       "    </tr>\n",
       "    <tr>\n",
       "      <th>Id</th>\n",
       "      <th></th>\n",
       "      <th></th>\n",
       "      <th></th>\n",
       "      <th></th>\n",
       "      <th></th>\n",
       "      <th></th>\n",
       "      <th></th>\n",
       "      <th></th>\n",
       "      <th></th>\n",
       "      <th></th>\n",
       "      <th></th>\n",
       "      <th></th>\n",
       "      <th></th>\n",
       "      <th></th>\n",
       "      <th></th>\n",
       "      <th></th>\n",
       "      <th></th>\n",
       "      <th></th>\n",
       "      <th></th>\n",
       "      <th></th>\n",
       "      <th></th>\n",
       "    </tr>\n",
       "  </thead>\n",
       "  <tbody>\n",
       "    <tr>\n",
       "      <th>1</th>\n",
       "      <td>60</td>\n",
       "      <td>RL</td>\n",
       "      <td>65.0</td>\n",
       "      <td>8450</td>\n",
       "      <td>Pave</td>\n",
       "      <td>NaN</td>\n",
       "      <td>Reg</td>\n",
       "      <td>Lvl</td>\n",
       "      <td>AllPub</td>\n",
       "      <td>Inside</td>\n",
       "      <td>...</td>\n",
       "      <td>0</td>\n",
       "      <td>NaN</td>\n",
       "      <td>NaN</td>\n",
       "      <td>NaN</td>\n",
       "      <td>0</td>\n",
       "      <td>2</td>\n",
       "      <td>2008</td>\n",
       "      <td>WD</td>\n",
       "      <td>Normal</td>\n",
       "      <td>208500</td>\n",
       "    </tr>\n",
       "    <tr>\n",
       "      <th>2</th>\n",
       "      <td>20</td>\n",
       "      <td>RL</td>\n",
       "      <td>80.0</td>\n",
       "      <td>9600</td>\n",
       "      <td>Pave</td>\n",
       "      <td>NaN</td>\n",
       "      <td>Reg</td>\n",
       "      <td>Lvl</td>\n",
       "      <td>AllPub</td>\n",
       "      <td>FR2</td>\n",
       "      <td>...</td>\n",
       "      <td>0</td>\n",
       "      <td>NaN</td>\n",
       "      <td>NaN</td>\n",
       "      <td>NaN</td>\n",
       "      <td>0</td>\n",
       "      <td>5</td>\n",
       "      <td>2007</td>\n",
       "      <td>WD</td>\n",
       "      <td>Normal</td>\n",
       "      <td>181500</td>\n",
       "    </tr>\n",
       "    <tr>\n",
       "      <th>3</th>\n",
       "      <td>60</td>\n",
       "      <td>RL</td>\n",
       "      <td>68.0</td>\n",
       "      <td>11250</td>\n",
       "      <td>Pave</td>\n",
       "      <td>NaN</td>\n",
       "      <td>IR1</td>\n",
       "      <td>Lvl</td>\n",
       "      <td>AllPub</td>\n",
       "      <td>Inside</td>\n",
       "      <td>...</td>\n",
       "      <td>0</td>\n",
       "      <td>NaN</td>\n",
       "      <td>NaN</td>\n",
       "      <td>NaN</td>\n",
       "      <td>0</td>\n",
       "      <td>9</td>\n",
       "      <td>2008</td>\n",
       "      <td>WD</td>\n",
       "      <td>Normal</td>\n",
       "      <td>223500</td>\n",
       "    </tr>\n",
       "    <tr>\n",
       "      <th>4</th>\n",
       "      <td>70</td>\n",
       "      <td>RL</td>\n",
       "      <td>60.0</td>\n",
       "      <td>9550</td>\n",
       "      <td>Pave</td>\n",
       "      <td>NaN</td>\n",
       "      <td>IR1</td>\n",
       "      <td>Lvl</td>\n",
       "      <td>AllPub</td>\n",
       "      <td>Corner</td>\n",
       "      <td>...</td>\n",
       "      <td>0</td>\n",
       "      <td>NaN</td>\n",
       "      <td>NaN</td>\n",
       "      <td>NaN</td>\n",
       "      <td>0</td>\n",
       "      <td>2</td>\n",
       "      <td>2006</td>\n",
       "      <td>WD</td>\n",
       "      <td>Abnorml</td>\n",
       "      <td>140000</td>\n",
       "    </tr>\n",
       "    <tr>\n",
       "      <th>5</th>\n",
       "      <td>60</td>\n",
       "      <td>RL</td>\n",
       "      <td>84.0</td>\n",
       "      <td>14260</td>\n",
       "      <td>Pave</td>\n",
       "      <td>NaN</td>\n",
       "      <td>IR1</td>\n",
       "      <td>Lvl</td>\n",
       "      <td>AllPub</td>\n",
       "      <td>FR2</td>\n",
       "      <td>...</td>\n",
       "      <td>0</td>\n",
       "      <td>NaN</td>\n",
       "      <td>NaN</td>\n",
       "      <td>NaN</td>\n",
       "      <td>0</td>\n",
       "      <td>12</td>\n",
       "      <td>2008</td>\n",
       "      <td>WD</td>\n",
       "      <td>Normal</td>\n",
       "      <td>250000</td>\n",
       "    </tr>\n",
       "  </tbody>\n",
       "</table>\n",
       "<p>5 rows × 80 columns</p>\n",
       "</div>"
      ],
      "text/plain": [
       "    MSSubClass MSZoning  LotFrontage  LotArea Street Alley LotShape  \\\n",
       "Id                                                                    \n",
       "1           60       RL         65.0     8450   Pave   NaN      Reg   \n",
       "2           20       RL         80.0     9600   Pave   NaN      Reg   \n",
       "3           60       RL         68.0    11250   Pave   NaN      IR1   \n",
       "4           70       RL         60.0     9550   Pave   NaN      IR1   \n",
       "5           60       RL         84.0    14260   Pave   NaN      IR1   \n",
       "\n",
       "   LandContour Utilities LotConfig  ... PoolArea PoolQC Fence MiscFeature  \\\n",
       "Id                                  ...                                     \n",
       "1          Lvl    AllPub    Inside  ...        0    NaN   NaN         NaN   \n",
       "2          Lvl    AllPub       FR2  ...        0    NaN   NaN         NaN   \n",
       "3          Lvl    AllPub    Inside  ...        0    NaN   NaN         NaN   \n",
       "4          Lvl    AllPub    Corner  ...        0    NaN   NaN         NaN   \n",
       "5          Lvl    AllPub       FR2  ...        0    NaN   NaN         NaN   \n",
       "\n",
       "   MiscVal MoSold  YrSold  SaleType  SaleCondition  SalePrice  \n",
       "Id                                                             \n",
       "1        0      2    2008        WD         Normal     208500  \n",
       "2        0      5    2007        WD         Normal     181500  \n",
       "3        0      9    2008        WD         Normal     223500  \n",
       "4        0      2    2006        WD        Abnorml     140000  \n",
       "5        0     12    2008        WD         Normal     250000  \n",
       "\n",
       "[5 rows x 80 columns]"
      ]
     },
     "execution_count": 4,
     "metadata": {},
     "output_type": "execute_result"
    }
   ],
   "source": [
    "train_inv.head()"
   ]
  },
  {
   "cell_type": "code",
   "execution_count": 5,
   "id": "b61f57a7-3576-43a1-84c6-a0bf206670b9",
   "metadata": {},
   "outputs": [],
   "source": [
    "#1.3 Load Data\n",
    "#Function\n",
    "def load_data():\n",
    "    #read the data\n",
    "    datadir = Path('../Documents/Gergely dolgok/AI/0 Datasets/HP comp/')\n",
    "    df_train = pd.read_csv(datadir/'train.csv', index_col = 'Id')\n",
    "    df_test = pd.read_csv(datadir/'test.csv', index_col = 'Id')\n",
    "    #drop rows with missing Target from df_train\n",
    "    df_train.dropna(axis = 0, subset = ['SalePrice'], inplace = True)\n",
    "    #concat\n",
    "    df = pd.concat([df_train, df_test])\n",
    "    \n",
    "    df = clean(df)\n",
    "    df = encode(df)\n",
    "    df = impute(df)\n",
    "    \n",
    "    #Resplit to df_train and df_test\n",
    "    df_train = df.loc[df_train.index, :]\n",
    "    df_test = df.loc[df_train.index, :]\n",
    "    \n",
    "    return df_train, df_test\n",
    "    "
   ]
  },
  {
   "cell_type": "code",
   "execution_count": 6,
   "id": "22caf298-ea5a-4bda-b701-43d4f20c6ffd",
   "metadata": {},
   "outputs": [
    {
     "data": {
      "text/plain": [
       "array(['VinylSd', 'MetalSd', 'Wd Shng', 'HdBoard', 'Plywood', 'Wd Sdng',\n",
       "       'CmentBd', 'BrkFace', 'Stucco', 'AsbShng', 'Brk Cmn', 'ImStucc',\n",
       "       'AsphShn', 'Stone', 'Other', 'CBlock'], dtype=object)"
      ]
     },
     "execution_count": 6,
     "metadata": {},
     "output_type": "execute_result"
    }
   ],
   "source": [
    "train_inv.Exterior2nd.unique()"
   ]
  },
  {
   "cell_type": "code",
   "execution_count": 7,
   "id": "6d77cde3-b546-44a9-986a-165681ff061d",
   "metadata": {},
   "outputs": [],
   "source": [
    "#Clean\n",
    "def clean(df):\n",
    "    #replace\n",
    "    df['Exterior2nd'] = df['Exterior2nd'].replace({'Brk Cmn':'BrkComm'})\n",
    "    #where\n",
    "    df['GarageYrBlt'] = df['GarageYrBlt'].where(df.GarageYrBlt <= 2010, df.YearBuilt)\n",
    "    #rename columns\n",
    "    df.rename(columns = {\"1stFlrSF\": \"FirstFlrSF\",\n",
    "       \"2ndFlrSF\": \"SecondFlrSF\",\n",
    "       \"3SsnPorch\": \"Threeseasonporch\"\n",
    "    }, inplace = True)\n",
    "    \n",
    "    return df"
   ]
  },
  {
   "cell_type": "code",
   "execution_count": 8,
   "id": "7acb546a-5f8c-46ab-ab20-d6895d151a1d",
   "metadata": {},
   "outputs": [],
   "source": [
    "#Encode\n",
    "features_nom = [\"MSSubClass\", \"MSZoning\", \"Street\", \"Alley\", \"LandContour\", \"LotConfig\",\n",
    "                \"Neighborhood\", \"Condition1\", \"Condition2\", \"BldgType\", \"HouseStyle\",\n",
    "                \"RoofStyle\", \"RoofMatl\", \"Exterior1st\", \"Exterior2nd\", \"MasVnrType\",\n",
    "                \"Foundation\", \"Heating\", \"CentralAir\", \"GarageType\", \"MiscFeature\",\n",
    "                \"SaleType\", \"SaleCondition\"]\n",
    "\n",
    "ten_levels = list(range(10))\n",
    "five_levels = [\"Po\", \"Fa\", \"TA\", \"Gd\", \"Ex\"]\n",
    "\n",
    "ordered_levels = {\n",
    "    \"ExterQual\" : five_levels,\n",
    "    \"ExterCond\" : five_levels,\n",
    "    \"BsmtQual\" : five_levels,\n",
    "    \"BsmtCond\" : five_levels,\n",
    "    \"HeatingQC\" : five_levels,\n",
    "    \"KitchenQual\" : five_levels,\n",
    "    \"FireplaceQu\" : five_levels,\n",
    "    \"GarageQual\" : five_levels,\n",
    "    \"GarageCond\" : five_levels,\n",
    "    \"PoolQC\" : five_levels,\n",
    "    \"OverallQual\" : ten_levels,\n",
    "    \"OverallCond\" :ten_levels,\n",
    "    \"LotShape\": [\"Reg\", \"IR1\", \"IR2\", \"IR3\"],\n",
    "    \"LandSlope\": [\"Sev\", \"Mod\", \"Gtl\"],\n",
    "    \"BsmtExposure\": [\"No\", \"Mn\", \"Av\", \"Gd\"],\n",
    "    \"BsmtFinType1\": [\"Unf\", \"LwQ\", \"Rec\", \"BLQ\", \"ALQ\", \"GLQ\"],\n",
    "    \"BsmtFinType2\": [\"Unf\", \"LwQ\", \"Rec\", \"BLQ\", \"ALQ\", \"GLQ\"],\n",
    "    \"Functional\": [\"Sal\", \"Sev\", \"Maj1\", \"Maj2\", \"Mod\", \"Min2\", \"Min1\", \"Typ\"],\n",
    "    \"GarageFinish\": [\"Unf\", \"RFn\", \"Fin\"],\n",
    "    \"PavedDrive\": [\"N\", \"P\", \"Y\"],\n",
    "    \"Utilities\": [\"NoSeWa\", \"NoSewr\", \"AllPub\"],\n",
    "    \"CentralAir\": [\"N\", \"Y\"],\n",
    "    \"Electrical\": [\"Mix\", \"FuseP\", \"FuseF\", \"FuseA\", \"SBrkr\"],\n",
    "    \"Fence\": [\"MnWw\", \"GdWo\", \"MnPrv\", \"GdPrv\"]\n",
    "}\n",
    "\n",
    "#Add None to Ordinal\n",
    "ordered_levels = {key:['None'] + value for key, value in ordered_levels.items()}\n",
    "\n",
    "#Function\n",
    "def encode(df):\n",
    "    #Nominal Features\n",
    "    for name in df[features_nom]:\n",
    "        df[name] = df[name].astype('category')\n",
    "        if 'None' not in df[name].cat.categories:\n",
    "            df[name] = df[name].cat.add_categories('None')\n",
    "    \n",
    "    #Ordinal features\n",
    "    for name, levels in ordered_levels.items():\n",
    "        df[name] = df[name].astype(CategoricalDtype(levels, ordered = True))\n",
    "        \n",
    "    return df\n"
   ]
  },
  {
   "cell_type": "code",
   "execution_count": 9,
   "id": "8f1dfb3d-cb2d-4461-8e2c-1f870f757baa",
   "metadata": {},
   "outputs": [
    {
     "data": {
      "text/plain": [
       "{'ExterQual': ['None', 'Po', 'Fa', 'TA', 'Gd', 'Ex'],\n",
       " 'ExterCond': ['None', 'Po', 'Fa', 'TA', 'Gd', 'Ex'],\n",
       " 'BsmtQual': ['None', 'Po', 'Fa', 'TA', 'Gd', 'Ex'],\n",
       " 'BsmtCond': ['None', 'Po', 'Fa', 'TA', 'Gd', 'Ex'],\n",
       " 'HeatingQC': ['None', 'Po', 'Fa', 'TA', 'Gd', 'Ex'],\n",
       " 'KitchenQual': ['None', 'Po', 'Fa', 'TA', 'Gd', 'Ex'],\n",
       " 'FireplaceQu': ['None', 'Po', 'Fa', 'TA', 'Gd', 'Ex'],\n",
       " 'GarageQual': ['None', 'Po', 'Fa', 'TA', 'Gd', 'Ex'],\n",
       " 'GarageCond': ['None', 'Po', 'Fa', 'TA', 'Gd', 'Ex'],\n",
       " 'PoolQC': ['None', 'Po', 'Fa', 'TA', 'Gd', 'Ex'],\n",
       " 'OverallQual': ['None', 0, 1, 2, 3, 4, 5, 6, 7, 8, 9],\n",
       " 'OverallCond': ['None', 0, 1, 2, 3, 4, 5, 6, 7, 8, 9],\n",
       " 'LotShape': ['None', 'Reg', 'IR1', 'IR2', 'IR3'],\n",
       " 'LandSlope': ['None', 'Sev', 'Mod', 'Gtl'],\n",
       " 'BsmtExposure': ['None', 'No', 'Mn', 'Av', 'Gd'],\n",
       " 'BsmtFinType1': ['None', 'Unf', 'LwQ', 'Rec', 'BLQ', 'ALQ', 'GLQ'],\n",
       " 'BsmtFinType2': ['None', 'Unf', 'LwQ', 'Rec', 'BLQ', 'ALQ', 'GLQ'],\n",
       " 'Functional': ['None',\n",
       "  'Sal',\n",
       "  'Sev',\n",
       "  'Maj1',\n",
       "  'Maj2',\n",
       "  'Mod',\n",
       "  'Min2',\n",
       "  'Min1',\n",
       "  'Typ'],\n",
       " 'GarageFinish': ['None', 'Unf', 'RFn', 'Fin'],\n",
       " 'PavedDrive': ['None', 'N', 'P', 'Y'],\n",
       " 'Utilities': ['None', 'NoSeWa', 'NoSewr', 'AllPub'],\n",
       " 'CentralAir': ['None', 'N', 'Y'],\n",
       " 'Electrical': ['None', 'Mix', 'FuseP', 'FuseF', 'FuseA', 'SBrkr'],\n",
       " 'Fence': ['None', 'MnWw', 'GdWo', 'MnPrv', 'GdPrv']}"
      ]
     },
     "execution_count": 9,
     "metadata": {},
     "output_type": "execute_result"
    }
   ],
   "source": [
    "ordered_levels"
   ]
  },
  {
   "cell_type": "code",
   "execution_count": 10,
   "id": "b27cadb8-a20c-455d-b5a4-619890030818",
   "metadata": {},
   "outputs": [],
   "source": [
    "#Impute\n",
    "def impute(df):\n",
    "    #Numerical\n",
    "    for name in df.select_dtypes('number'):\n",
    "        df[name] = df[name].fillna(0)\n",
    "    #Categorical\n",
    "    for name in df.select_dtypes('category'):\n",
    "        df[name] = df[name].fillna('None')\n",
    "        \n",
    "    return df"
   ]
  },
  {
   "cell_type": "markdown",
   "id": "cbd46ed5-9317-4ec3-a1db-fe00771f7a5c",
   "metadata": {},
   "source": [
    "## Load Data"
   ]
  },
  {
   "cell_type": "code",
   "execution_count": 11,
   "id": "e2655238-b932-4e38-b970-2f74e413b7e4",
   "metadata": {},
   "outputs": [],
   "source": [
    "df_train, df_test = load_data()"
   ]
  },
  {
   "cell_type": "code",
   "execution_count": 12,
   "id": "088fd376-f8da-4650-909e-39bc9f737873",
   "metadata": {},
   "outputs": [
    {
     "data": {
      "text/plain": [
       "(1460, 80)"
      ]
     },
     "execution_count": 12,
     "metadata": {},
     "output_type": "execute_result"
    }
   ],
   "source": [
    "df_train.shape"
   ]
  },
  {
   "cell_type": "markdown",
   "id": "298d8217-1311-420b-a606-4ba337a28d19",
   "metadata": {},
   "source": [
    "## Score Function"
   ]
  },
  {
   "cell_type": "code",
   "execution_count": 13,
   "id": "050526a3-152b-47fc-b525-f22e0c7a14fd",
   "metadata": {},
   "outputs": [],
   "source": [
    "#Encode function\n",
    "def label_encode(df):\n",
    "    for name in df.select_dtypes('category'):\n",
    "        df[name] = df[name].cat.codes\n",
    "        \n",
    "    return df\n",
    "    "
   ]
  },
  {
   "cell_type": "code",
   "execution_count": 14,
   "id": "63f6ad5d-120b-4706-9834-7448a5bf3e76",
   "metadata": {},
   "outputs": [],
   "source": [
    "#Obtain X_train, y_train\n",
    "X = df_train.copy()\n",
    "y = X.pop('SalePrice')\n",
    "\n",
    "#Drop columns with missing values above 90%\n",
    "X.drop(miss_above_90, axis = 1, inplace = True)"
   ]
  },
  {
   "cell_type": "code",
   "execution_count": 15,
   "id": "cda0bcd6-6d66-43a0-9a99-caa7c8fd26fa",
   "metadata": {},
   "outputs": [
    {
     "data": {
      "text/plain": [
       "['MSSubClass', 'Neighborhood', 'OverallQual', 'Exterior1st', 'Exterior2nd']"
      ]
     },
     "execution_count": 15,
     "metadata": {},
     "output_type": "execute_result"
    }
   ],
   "source": [
    "#true high cardinality columns\n",
    "df_train.select_dtypes('category').nunique().sort_values(ascending = False)\n",
    "t_high_card_cols = [col for col in X.select_dtypes('category') if X[col].nunique() >= 10] #cluster distance? - any problem here?\n",
    "t_high_card_cols\n"
   ]
  },
  {
   "cell_type": "code",
   "execution_count": 16,
   "id": "55133945-86b0-4075-b227-1c6fa575a1fe",
   "metadata": {},
   "outputs": [],
   "source": [
    "#Score Function\n",
    "def score_dataset(X, y, model = XGBRegressor()):\n",
    "    X = X.copy() #don't want to modify X outside the function\n",
    "    #label encoding\n",
    "    X = label_encode(X)\n",
    "    #score\n",
    "    log_y = np.log(y)\n",
    "    scores = cross_val_score(model, X, log_y, cv = 5, scoring = 'neg_mean_squared_error')\n",
    "    score = -1 * scores.mean()\n",
    "    score = np.sqrt(score)\n",
    "    \n",
    "    return score\n"
   ]
  },
  {
   "cell_type": "code",
   "execution_count": 17,
   "id": "5acbde24-a52f-4c68-ab97-088efdf60cea",
   "metadata": {},
   "outputs": [
    {
     "name": "stdout",
     "output_type": "stream",
     "text": [
      "Base score: 0.14443\n"
     ]
    }
   ],
   "source": [
    "baseline_score = score_dataset(X, y)\n",
    "print(\"Base score: {:.5}\".format(baseline_score))"
   ]
  },
  {
   "cell_type": "code",
   "execution_count": null,
   "id": "418ea22c-1c72-4b9e-82fb-b2c05c435821",
   "metadata": {},
   "outputs": [],
   "source": []
  }
 ],
 "metadata": {
  "kernelspec": {
   "display_name": "Python 3 (ipykernel)",
   "language": "python",
   "name": "python3"
  },
  "language_info": {
   "codemirror_mode": {
    "name": "ipython",
    "version": 3
   },
   "file_extension": ".py",
   "mimetype": "text/x-python",
   "name": "python",
   "nbconvert_exporter": "python",
   "pygments_lexer": "ipython3",
   "version": "3.11.1"
  }
 },
 "nbformat": 4,
 "nbformat_minor": 5
}
